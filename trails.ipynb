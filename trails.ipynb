{
 "cells": [
  {
   "cell_type": "code",
   "execution_count": 121,
   "metadata": {},
   "outputs": [],
   "source": [
    "import torch"
   ]
  },
  {
   "cell_type": "code",
   "execution_count": 122,
   "metadata": {},
   "outputs": [
    {
     "data": {
      "text/plain": [
       "tensor(4.)"
      ]
     },
     "execution_count": 122,
     "metadata": {},
     "output_type": "execute_result"
    }
   ],
   "source": [
    "t1 = torch.tensor(4.)\n",
    "t1"
   ]
  },
  {
   "cell_type": "code",
   "execution_count": 123,
   "metadata": {},
   "outputs": [
    {
     "data": {
      "text/plain": [
       "torch.float32"
      ]
     },
     "execution_count": 123,
     "metadata": {},
     "output_type": "execute_result"
    }
   ],
   "source": [
    "t1.dtype"
   ]
  },
  {
   "cell_type": "code",
   "execution_count": 124,
   "metadata": {},
   "outputs": [
    {
     "data": {
      "text/plain": [
       "tensor([1., 2., 3., 5.])"
      ]
     },
     "execution_count": 124,
     "metadata": {},
     "output_type": "execute_result"
    }
   ],
   "source": [
    "# vector\n",
    "t2 =  torch.tensor([1.,2,3,5])\n",
    "t2"
   ]
  },
  {
   "cell_type": "code",
   "execution_count": 125,
   "metadata": {},
   "outputs": [
    {
     "data": {
      "text/plain": [
       "torch.float32"
      ]
     },
     "execution_count": 125,
     "metadata": {},
     "output_type": "execute_result"
    }
   ],
   "source": [
    "t2.dtype"
   ]
  },
  {
   "cell_type": "code",
   "execution_count": 126,
   "metadata": {},
   "outputs": [
    {
     "data": {
      "text/plain": [
       "tensor([[ 5.,  6.],\n",
       "        [ 7.,  8.],\n",
       "        [ 9., 10.]])"
      ]
     },
     "execution_count": 126,
     "metadata": {},
     "output_type": "execute_result"
    }
   ],
   "source": [
    "# Matix\n",
    "t3 = torch.tensor([[5.,6], [7,8],[9,10]])\n",
    "t3"
   ]
  },
  {
   "cell_type": "code",
   "execution_count": 127,
   "metadata": {},
   "outputs": [
    {
     "data": {
      "text/plain": [
       "tensor([[[11, 13, 14],\n",
       "         [24, 66, 77]],\n",
       "\n",
       "        [[11, 13, 14],\n",
       "         [24, 66, 77]]])"
      ]
     },
     "execution_count": 127,
     "metadata": {},
     "output_type": "execute_result"
    }
   ],
   "source": [
    "t4 = torch.tensor([\n",
    "    [[11,13,14], [24,66,77]],\n",
    "    [[11,13,14], [24,66,77]]\n",
    "])\n",
    "t4"
   ]
  },
  {
   "cell_type": "code",
   "execution_count": 128,
   "metadata": {},
   "outputs": [
    {
     "name": "stdout",
     "output_type": "stream",
     "text": [
      "torch.Size([])\n",
      "torch.Size([4])\n",
      "torch.Size([3, 2])\n",
      "torch.Size([2, 2, 3])\n"
     ]
    }
   ],
   "source": [
    "print(t1.shape)\n",
    "print(t2.shape)\n",
    "print(t3.shape)\n",
    "print(t4.shape)"
   ]
  },
  {
   "cell_type": "code",
   "execution_count": 129,
   "metadata": {},
   "outputs": [
    {
     "data": {
      "text/plain": [
       "(tensor(3.), tensor(4., requires_grad=True), tensor(5., requires_grad=True))"
      ]
     },
     "execution_count": 129,
     "metadata": {},
     "output_type": "execute_result"
    }
   ],
   "source": [
    "# Tensors operations and gradients\n",
    "x = torch.tensor(3.)\n",
    "w = torch.tensor(4., requires_grad=True)\n",
    "b = torch.tensor(5., requires_grad=True)\n",
    "x, w, b"
   ]
  },
  {
   "cell_type": "code",
   "execution_count": 130,
   "metadata": {},
   "outputs": [
    {
     "data": {
      "text/plain": [
       "tensor(17., grad_fn=<AddBackward0>)"
      ]
     },
     "execution_count": 130,
     "metadata": {},
     "output_type": "execute_result"
    }
   ],
   "source": [
    "y = x*w+b\n",
    "y"
   ]
  },
  {
   "cell_type": "code",
   "execution_count": 131,
   "metadata": {},
   "outputs": [
    {
     "data": {
      "text/plain": [
       "torch.float32"
      ]
     },
     "execution_count": 131,
     "metadata": {},
     "output_type": "execute_result"
    }
   ],
   "source": [
    "y.dtype"
   ]
  },
  {
   "cell_type": "code",
   "execution_count": 132,
   "metadata": {},
   "outputs": [],
   "source": [
    "# Compute derivatives\n",
    "y.backward()"
   ]
  },
  {
   "cell_type": "code",
   "execution_count": 133,
   "metadata": {},
   "outputs": [
    {
     "name": "stdout",
     "output_type": "stream",
     "text": [
      "dy/dx: None\n",
      "dy/dw: tensor(3.)\n",
      "dy/db: tensor(1.)\n"
     ]
    }
   ],
   "source": [
    "# Display gradients\n",
    "print('dy/dx:', x.grad)\n",
    "print('dy/dw:', w.grad)\n",
    "print('dy/db:', b.grad)"
   ]
  },
  {
   "cell_type": "code",
   "execution_count": 134,
   "metadata": {},
   "outputs": [
    {
     "data": {
      "text/plain": [
       "array([[1, 2],\n",
       "       [3, 4]])"
      ]
     },
     "execution_count": 134,
     "metadata": {},
     "output_type": "execute_result"
    }
   ],
   "source": [
    "# Interoperability with Numpy\n",
    "\n",
    "import numpy as np\n",
    "x = np.array([[1,2], [3,4]])\n",
    "x"
   ]
  },
  {
   "cell_type": "code",
   "execution_count": 135,
   "metadata": {},
   "outputs": [
    {
     "data": {
      "text/plain": [
       "tensor([[1, 2],\n",
       "        [3, 4]], dtype=torch.int32)"
      ]
     },
     "execution_count": 135,
     "metadata": {},
     "output_type": "execute_result"
    }
   ],
   "source": [
    "y = torch.from_numpy(x)\n",
    "y"
   ]
  },
  {
   "cell_type": "code",
   "execution_count": 136,
   "metadata": {},
   "outputs": [
    {
     "data": {
      "text/plain": [
       "(dtype('int32'), torch.int32)"
      ]
     },
     "execution_count": 136,
     "metadata": {},
     "output_type": "execute_result"
    }
   ],
   "source": [
    "x.dtype, y.dtype"
   ]
  },
  {
   "cell_type": "code",
   "execution_count": 137,
   "metadata": {},
   "outputs": [
    {
     "data": {
      "text/plain": [
       "array([[1, 2],\n",
       "       [3, 4]])"
      ]
     },
     "execution_count": 137,
     "metadata": {},
     "output_type": "execute_result"
    }
   ],
   "source": [
    "z = y.numpy()\n",
    "z"
   ]
  },
  {
   "cell_type": "code",
   "execution_count": 138,
   "metadata": {},
   "outputs": [
    {
     "data": {
      "text/plain": [
       "array([[67., 77., 85.],\n",
       "       [45., 66., 74.],\n",
       "       [36., 75., 86.],\n",
       "       [66., 46., 74.]], dtype=float32)"
      ]
     },
     "execution_count": 138,
     "metadata": {},
     "output_type": "execute_result"
    }
   ],
   "source": [
    "inputs = np.array([[67,77,85],[45,66,74],[36,75,86],[66,46,74]], dtype='float32')\n",
    "inputs"
   ]
  },
  {
   "cell_type": "code",
   "execution_count": 139,
   "metadata": {},
   "outputs": [
    {
     "data": {
      "text/plain": [
       "array([[ 56.,  70.],\n",
       "       [ 83., 101.],\n",
       "       [ 54.,  78.],\n",
       "       [ 56.,  75.]], dtype=float32)"
      ]
     },
     "execution_count": 139,
     "metadata": {},
     "output_type": "execute_result"
    }
   ],
   "source": [
    "targets = np.array([[56, 70], [83, 101], [54,78], [56,75]], dtype='float32')\n",
    "targets"
   ]
  },
  {
   "cell_type": "code",
   "execution_count": 140,
   "metadata": {},
   "outputs": [
    {
     "name": "stdout",
     "output_type": "stream",
     "text": [
      "inputs:  tensor([[67., 77., 85.],\n",
      "        [45., 66., 74.],\n",
      "        [36., 75., 86.],\n",
      "        [66., 46., 74.]])\n",
      "targets:  tensor([[ 56.,  70.],\n",
      "        [ 83., 101.],\n",
      "        [ 54.,  78.],\n",
      "        [ 56.,  75.]])\n"
     ]
    }
   ],
   "source": [
    "# convert inputs and targets to tensors\n",
    "inputs = torch.from_numpy(inputs)\n",
    "targets = torch.from_numpy(targets)\n",
    "print(\"inputs: \",inputs)\n",
    "print(\"targets: \",targets)"
   ]
  },
  {
   "cell_type": "code",
   "execution_count": 141,
   "metadata": {},
   "outputs": [
    {
     "name": "stdout",
     "output_type": "stream",
     "text": [
      "tensor([[-0.9673,  0.1488,  0.4370],\n",
      "        [ 0.3897, -0.3826,  0.7551]], requires_grad=True)\n",
      "tensor([-0.7476,  0.6856], requires_grad=True)\n"
     ]
    }
   ],
   "source": [
    "w = torch.randn(2,3, requires_grad=True)\n",
    "b = torch.randn(2, requires_grad=True)\n",
    "print(w)\n",
    "print(b)"
   ]
  },
  {
   "cell_type": "code",
   "execution_count": 142,
   "metadata": {},
   "outputs": [
    {
     "name": "stdout",
     "output_type": "stream",
     "text": [
      "None\n"
     ]
    }
   ],
   "source": [
    "print(w.grad)"
   ]
  },
  {
   "cell_type": "code",
   "execution_count": 143,
   "metadata": {},
   "outputs": [
    {
     "data": {
      "text/plain": [
       "tensor([[-0.9673,  0.1488,  0.4370],\n",
       "        [ 0.3897, -0.3826,  0.7551]], requires_grad=True)"
      ]
     },
     "execution_count": 143,
     "metadata": {},
     "output_type": "execute_result"
    }
   ],
   "source": [
    "w"
   ]
  },
  {
   "cell_type": "code",
   "execution_count": 144,
   "metadata": {},
   "outputs": [
    {
     "data": {
      "text/plain": [
       "tensor([[67., 77., 85.],\n",
       "        [45., 66., 74.],\n",
       "        [36., 75., 86.],\n",
       "        [66., 46., 74.]])"
      ]
     },
     "execution_count": 144,
     "metadata": {},
     "output_type": "execute_result"
    }
   ],
   "source": [
    "inputs"
   ]
  },
  {
   "cell_type": "code",
   "execution_count": 145,
   "metadata": {},
   "outputs": [
    {
     "data": {
      "text/plain": [
       "tensor([[-0.9673,  0.3897],\n",
       "        [ 0.1488, -0.3826],\n",
       "        [ 0.4370,  0.7551]], grad_fn=<TBackward0>)"
      ]
     },
     "execution_count": 145,
     "metadata": {},
     "output_type": "execute_result"
    }
   ],
   "source": [
    "w.t()"
   ]
  },
  {
   "cell_type": "code",
   "execution_count": 146,
   "metadata": {},
   "outputs": [
    {
     "data": {
      "text/plain": [
       "tensor([[-16.9535,  61.5194],\n",
       "        [ -2.1172,  48.8488],\n",
       "        [ 13.1712,  50.9598],\n",
       "        [-25.4050,  64.6837]], grad_fn=<AddBackward0>)"
      ]
     },
     "execution_count": 146,
     "metadata": {},
     "output_type": "execute_result"
    }
   ],
   "source": [
    "inputs @ w.t() + b"
   ]
  },
  {
   "cell_type": "code",
   "execution_count": 147,
   "metadata": {},
   "outputs": [],
   "source": [
    "def model(inputs):\n",
    "    return inputs @ w.t()+b"
   ]
  },
  {
   "cell_type": "code",
   "execution_count": 148,
   "metadata": {},
   "outputs": [
    {
     "name": "stdout",
     "output_type": "stream",
     "text": [
      "tensor([[-16.9535,  61.5194],\n",
      "        [ -2.1172,  48.8488],\n",
      "        [ 13.1712,  50.9598],\n",
      "        [-25.4050,  64.6837]], grad_fn=<AddBackward0>)\n"
     ]
    }
   ],
   "source": [
    "preds = model(inputs)\n",
    "print(preds)"
   ]
  },
  {
   "cell_type": "code",
   "execution_count": 149,
   "metadata": {},
   "outputs": [
    {
     "name": "stdout",
     "output_type": "stream",
     "text": [
      "tensor([[ 56.,  70.],\n",
      "        [ 83., 101.],\n",
      "        [ 54.,  78.],\n",
      "        [ 56.,  75.]])\n"
     ]
    }
   ],
   "source": [
    "# compare to target\n",
    "print(targets)"
   ]
  },
  {
   "cell_type": "code",
   "execution_count": 150,
   "metadata": {},
   "outputs": [
    {
     "data": {
      "text/plain": [
       "tensor([[5322.2095,   71.9213],\n",
       "        [7244.9380, 2719.7520],\n",
       "        [1666.9938,  731.1701],\n",
       "        [6626.7812,  106.4257]], grad_fn=<MulBackward0>)"
      ]
     },
     "execution_count": 150,
     "metadata": {},
     "output_type": "execute_result"
    }
   ],
   "source": [
    "difff = preds - targets\n",
    "muilti = difff * difff\n",
    "muilti"
   ]
  },
  {
   "cell_type": "code",
   "execution_count": 151,
   "metadata": {},
   "outputs": [
    {
     "data": {
      "text/plain": [
       "tensor(24490.1914, grad_fn=<SumBackward0>)"
      ]
     },
     "execution_count": 151,
     "metadata": {},
     "output_type": "execute_result"
    }
   ],
   "source": [
    "torch.sum(muilti)"
   ]
  },
  {
   "cell_type": "code",
   "execution_count": 152,
   "metadata": {},
   "outputs": [
    {
     "data": {
      "text/plain": [
       "8"
      ]
     },
     "execution_count": 152,
     "metadata": {},
     "output_type": "execute_result"
    }
   ],
   "source": [
    "difff.numel()"
   ]
  },
  {
   "cell_type": "code",
   "execution_count": 153,
   "metadata": {},
   "outputs": [
    {
     "data": {
      "text/plain": [
       "tensor(3061.2739, grad_fn=<DivBackward0>)"
      ]
     },
     "execution_count": 153,
     "metadata": {},
     "output_type": "execute_result"
    }
   ],
   "source": [
    "torch.sum(muilti) / difff.numel()"
   ]
  },
  {
   "cell_type": "code",
   "execution_count": 154,
   "metadata": {},
   "outputs": [],
   "source": [
    "# mse loss\n",
    "def mse(t1,t2):\n",
    "    diff = t1-t2\n",
    "    return torch.sum(diff * diff) / diff.numel()"
   ]
  },
  {
   "cell_type": "code",
   "execution_count": 155,
   "metadata": {},
   "outputs": [
    {
     "name": "stdout",
     "output_type": "stream",
     "text": [
      "tensor(3061.2739, grad_fn=<DivBackward0>)\n"
     ]
    }
   ],
   "source": [
    "loss = mse(preds, targets)\n",
    "print(loss)"
   ]
  },
  {
   "cell_type": "code",
   "execution_count": 156,
   "metadata": {},
   "outputs": [],
   "source": [
    "loss.backward()"
   ]
  },
  {
   "cell_type": "code",
   "execution_count": 157,
   "metadata": {},
   "outputs": [
    {
     "name": "stdout",
     "output_type": "stream",
     "text": [
      "tensor([[-0.9673,  0.1488,  0.4370],\n",
      "        [ 0.3897, -0.3826,  0.7551]], requires_grad=True)\n",
      "tensor([[-3890.1821, -4510.4868, -5508.7427],\n",
      "        [-1142.3323, -1649.3879, -1917.2263]])\n"
     ]
    }
   ],
   "source": [
    "# gradients for weights\n",
    "print(w)\n",
    "print(w.grad)"
   ]
  },
  {
   "cell_type": "code",
   "execution_count": 158,
   "metadata": {},
   "outputs": [
    {
     "data": {
      "text/plain": [
       "tensor([0., 0.])"
      ]
     },
     "execution_count": 158,
     "metadata": {},
     "output_type": "execute_result"
    }
   ],
   "source": [
    "# gredient zero \n",
    "w.grad.zero_()\n",
    "b.grad.zero_()"
   ]
  },
  {
   "cell_type": "code",
   "execution_count": 159,
   "metadata": {},
   "outputs": [
    {
     "name": "stdout",
     "output_type": "stream",
     "text": [
      "tensor([[0., 0., 0.],\n",
      "        [0., 0., 0.]])\n"
     ]
    }
   ],
   "source": [
    "print(w.grad)"
   ]
  },
  {
   "cell_type": "markdown",
   "metadata": {},
   "source": [
    "#    Adjust weights and biases using gradient descent\n",
    "\n",
    "1. Generate predictions\n",
    "2. Calculate loss\n",
    "3. Compute gradient w.r.t weights and biases\n",
    "4. Adjust the weights by subtractung a small quantity proportional to the gradient \n",
    "5. Reset the gradients to zero"
   ]
  },
  {
   "cell_type": "code",
   "execution_count": 160,
   "metadata": {},
   "outputs": [],
   "source": [
    "w = torch.randn(2,3, requires_grad=True)\n",
    "b = torch.randn(2, requires_grad=True)"
   ]
  },
  {
   "cell_type": "code",
   "execution_count": 161,
   "metadata": {},
   "outputs": [],
   "source": [
    "# define model\n",
    "\n",
    "def model(inputs):\n",
    "    return inputs @ w.t()+b"
   ]
  },
  {
   "cell_type": "code",
   "execution_count": 162,
   "metadata": {},
   "outputs": [
    {
     "name": "stdout",
     "output_type": "stream",
     "text": [
      "tensor([[126.5822, -37.5669],\n",
      "        [108.2689, -25.6196],\n",
      "        [123.4699, -20.7884],\n",
      "        [122.4886, -37.8922]], grad_fn=<AddBackward0>)\n"
     ]
    }
   ],
   "source": [
    "# Generate predictions\n",
    "preds = model(inputs)\n",
    "print(preds)"
   ]
  },
  {
   "cell_type": "code",
   "execution_count": 163,
   "metadata": {},
   "outputs": [],
   "source": [
    "# mse loss\n",
    "def mse(t1,t2):\n",
    "    diff = t1-t2\n",
    "    return torch.sum(diff * diff) / diff.numel()\n"
   ]
  },
  {
   "cell_type": "code",
   "execution_count": 164,
   "metadata": {},
   "outputs": [
    {
     "data": {
      "text/plain": [
       "tensor(8121.7627, grad_fn=<DivBackward0>)"
      ]
     },
     "execution_count": 164,
     "metadata": {},
     "output_type": "execute_result"
    }
   ],
   "source": [
    "# define loss\n",
    "\n",
    "loss = mse(preds, targets)\n",
    "loss"
   ]
  },
  {
   "cell_type": "code",
   "execution_count": 165,
   "metadata": {},
   "outputs": [
    {
     "name": "stdout",
     "output_type": "stream",
     "text": [
      "tensor([[ 3188.8169,  3842.8223,  4690.9868],\n",
      "        [-5978.0322, -7310.4282, -8840.7148]])\n",
      "tensor([  57.9524, -111.4668])\n"
     ]
    }
   ],
   "source": [
    "# compute gradients\n",
    "loss.backward()\n",
    "print(w.grad)\n",
    "print(b.grad)"
   ]
  },
  {
   "cell_type": "code",
   "execution_count": 166,
   "metadata": {},
   "outputs": [
    {
     "name": "stdout",
     "output_type": "stream",
     "text": [
      "tensor([[ 0.1912, -0.5103,  1.7928],\n",
      "        [-0.5451,  0.0413, -0.0372]], requires_grad=True)\n",
      "tensor([ 0.6765, -1.0621], requires_grad=True)\n"
     ]
    }
   ],
   "source": [
    "print(w)\n",
    "print(b)"
   ]
  },
  {
   "cell_type": "code",
   "execution_count": 167,
   "metadata": {},
   "outputs": [],
   "source": [
    "# Adjust the weights and reset gradients\n",
    "with torch.no_grad():\n",
    "    w -= w.grad * 1e-5\n",
    "    b -= b.grad * 1e-5\n",
    "    w.grad.zero_()\n",
    "    b.grad.zero_()\n",
    "    "
   ]
  },
  {
   "cell_type": "code",
   "execution_count": 168,
   "metadata": {},
   "outputs": [
    {
     "name": "stdout",
     "output_type": "stream",
     "text": [
      "tensor([[ 0.1593, -0.5487,  1.7459],\n",
      "        [-0.4853,  0.1144,  0.0512]], requires_grad=True)\n",
      "tensor([ 0.6760, -1.0610], requires_grad=True)\n"
     ]
    }
   ],
   "source": [
    "print(w)\n",
    "print(b)"
   ]
  },
  {
   "cell_type": "code",
   "execution_count": 169,
   "metadata": {},
   "outputs": [
    {
     "data": {
      "text/plain": [
       "tensor(6125.4102, grad_fn=<DivBackward0>)"
      ]
     },
     "execution_count": 169,
     "metadata": {},
     "output_type": "execute_result"
    }
   ],
   "source": [
    "preds = model(inputs)\n",
    "\n",
    "loss = mse(preds, targets)\n",
    "loss"
   ]
  },
  {
   "cell_type": "code",
   "execution_count": 170,
   "metadata": {},
   "outputs": [
    {
     "name": "stdout",
     "output_type": "stream",
     "text": [
      "loss: tensor(6125.4102, grad_fn=<DivBackward0>)\n",
      "loss: tensor(4637.9453, grad_fn=<DivBackward0>)\n",
      "loss: tensor(3529.6409, grad_fn=<DivBackward0>)\n",
      "loss: tensor(2703.8398, grad_fn=<DivBackward0>)\n",
      "loss: tensor(2088.5269, grad_fn=<DivBackward0>)\n",
      "loss: tensor(1630.0436, grad_fn=<DivBackward0>)\n",
      "loss: tensor(1288.4106, grad_fn=<DivBackward0>)\n",
      "loss: tensor(1033.8405, grad_fn=<DivBackward0>)\n",
      "loss: tensor(844.1392, grad_fn=<DivBackward0>)\n",
      "loss: tensor(702.7702, grad_fn=<DivBackward0>)\n",
      "loss: tensor(597.4128, grad_fn=<DivBackward0>)\n",
      "loss: tensor(518.8868, grad_fn=<DivBackward0>)\n",
      "loss: tensor(460.3524, grad_fn=<DivBackward0>)\n",
      "loss: tensor(416.7134, grad_fn=<DivBackward0>)\n",
      "loss: tensor(384.1729, grad_fn=<DivBackward0>)\n",
      "loss: tensor(359.9015, grad_fn=<DivBackward0>)\n",
      "loss: tensor(341.7915, grad_fn=<DivBackward0>)\n",
      "loss: tensor(328.2724, grad_fn=<DivBackward0>)\n",
      "loss: tensor(318.1738, grad_fn=<DivBackward0>)\n",
      "loss: tensor(310.6239, grad_fn=<DivBackward0>)\n",
      "loss: tensor(304.9731, grad_fn=<DivBackward0>)\n",
      "loss: tensor(300.7374, grad_fn=<DivBackward0>)\n",
      "loss: tensor(297.5562, grad_fn=<DivBackward0>)\n",
      "loss: tensor(295.1607, grad_fn=<DivBackward0>)\n",
      "loss: tensor(293.3508, grad_fn=<DivBackward0>)\n",
      "loss: tensor(291.9772, grad_fn=<DivBackward0>)\n",
      "loss: tensor(290.9288, grad_fn=<DivBackward0>)\n",
      "loss: tensor(290.1230, grad_fn=<DivBackward0>)\n",
      "loss: tensor(289.4979, grad_fn=<DivBackward0>)\n",
      "loss: tensor(289.0074, grad_fn=<DivBackward0>)\n",
      "loss: tensor(288.6176, grad_fn=<DivBackward0>)\n",
      "loss: tensor(288.3027, grad_fn=<DivBackward0>)\n",
      "loss: tensor(288.0438, grad_fn=<DivBackward0>)\n",
      "loss: tensor(287.8267, grad_fn=<DivBackward0>)\n",
      "loss: tensor(287.6408, grad_fn=<DivBackward0>)\n",
      "loss: tensor(287.4784, grad_fn=<DivBackward0>)\n",
      "loss: tensor(287.3334, grad_fn=<DivBackward0>)\n",
      "loss: tensor(287.2015, grad_fn=<DivBackward0>)\n",
      "loss: tensor(287.0796, grad_fn=<DivBackward0>)\n",
      "loss: tensor(286.9652, grad_fn=<DivBackward0>)\n",
      "loss: tensor(286.8564, grad_fn=<DivBackward0>)\n",
      "loss: tensor(286.7519, grad_fn=<DivBackward0>)\n",
      "loss: tensor(286.6507, grad_fn=<DivBackward0>)\n",
      "loss: tensor(286.5521, grad_fn=<DivBackward0>)\n",
      "loss: tensor(286.4555, grad_fn=<DivBackward0>)\n",
      "loss: tensor(286.3604, grad_fn=<DivBackward0>)\n",
      "loss: tensor(286.2668, grad_fn=<DivBackward0>)\n",
      "loss: tensor(286.1740, grad_fn=<DivBackward0>)\n",
      "loss: tensor(286.0821, grad_fn=<DivBackward0>)\n",
      "loss: tensor(285.9911, grad_fn=<DivBackward0>)\n",
      "loss: tensor(285.9006, grad_fn=<DivBackward0>)\n",
      "loss: tensor(285.8107, grad_fn=<DivBackward0>)\n",
      "loss: tensor(285.7213, grad_fn=<DivBackward0>)\n",
      "loss: tensor(285.6325, grad_fn=<DivBackward0>)\n",
      "loss: tensor(285.5440, grad_fn=<DivBackward0>)\n",
      "loss: tensor(285.4560, grad_fn=<DivBackward0>)\n",
      "loss: tensor(285.3684, grad_fn=<DivBackward0>)\n",
      "loss: tensor(285.2812, grad_fn=<DivBackward0>)\n",
      "loss: tensor(285.1942, grad_fn=<DivBackward0>)\n",
      "loss: tensor(285.1078, grad_fn=<DivBackward0>)\n",
      "loss: tensor(285.0216, grad_fn=<DivBackward0>)\n",
      "loss: tensor(284.9359, grad_fn=<DivBackward0>)\n",
      "loss: tensor(284.8505, grad_fn=<DivBackward0>)\n",
      "loss: tensor(284.7654, grad_fn=<DivBackward0>)\n",
      "loss: tensor(284.6807, grad_fn=<DivBackward0>)\n",
      "loss: tensor(284.5963, grad_fn=<DivBackward0>)\n",
      "loss: tensor(284.5123, grad_fn=<DivBackward0>)\n",
      "loss: tensor(284.4286, grad_fn=<DivBackward0>)\n",
      "loss: tensor(284.3452, grad_fn=<DivBackward0>)\n",
      "loss: tensor(284.2621, grad_fn=<DivBackward0>)\n",
      "loss: tensor(284.1795, grad_fn=<DivBackward0>)\n",
      "loss: tensor(284.0971, grad_fn=<DivBackward0>)\n",
      "loss: tensor(284.0151, grad_fn=<DivBackward0>)\n",
      "loss: tensor(283.9334, grad_fn=<DivBackward0>)\n",
      "loss: tensor(283.8520, grad_fn=<DivBackward0>)\n",
      "loss: tensor(283.7710, grad_fn=<DivBackward0>)\n",
      "loss: tensor(283.6903, grad_fn=<DivBackward0>)\n",
      "loss: tensor(283.6099, grad_fn=<DivBackward0>)\n",
      "loss: tensor(283.5298, grad_fn=<DivBackward0>)\n",
      "loss: tensor(283.4500, grad_fn=<DivBackward0>)\n",
      "loss: tensor(283.3706, grad_fn=<DivBackward0>)\n",
      "loss: tensor(283.2915, grad_fn=<DivBackward0>)\n",
      "loss: tensor(283.2125, grad_fn=<DivBackward0>)\n",
      "loss: tensor(283.1342, grad_fn=<DivBackward0>)\n",
      "loss: tensor(283.0558, grad_fn=<DivBackward0>)\n",
      "loss: tensor(282.9780, grad_fn=<DivBackward0>)\n",
      "loss: tensor(282.9005, grad_fn=<DivBackward0>)\n",
      "loss: tensor(282.8232, grad_fn=<DivBackward0>)\n",
      "loss: tensor(282.7462, grad_fn=<DivBackward0>)\n",
      "loss: tensor(282.6696, grad_fn=<DivBackward0>)\n",
      "loss: tensor(282.5932, grad_fn=<DivBackward0>)\n",
      "loss: tensor(282.5172, grad_fn=<DivBackward0>)\n",
      "loss: tensor(282.4414, grad_fn=<DivBackward0>)\n",
      "loss: tensor(282.3660, grad_fn=<DivBackward0>)\n",
      "loss: tensor(282.2908, grad_fn=<DivBackward0>)\n",
      "loss: tensor(282.2159, grad_fn=<DivBackward0>)\n",
      "loss: tensor(282.1415, grad_fn=<DivBackward0>)\n",
      "loss: tensor(282.0671, grad_fn=<DivBackward0>)\n",
      "loss: tensor(281.9932, grad_fn=<DivBackward0>)\n",
      "loss: tensor(281.9195, grad_fn=<DivBackward0>)\n"
     ]
    }
   ],
   "source": [
    "# train for the 100 epochs\n",
    "for i in range(100):\n",
    "    preds = model(inputs)\n",
    "    loss = mse(preds, targets)\n",
    "    print(\"loss:\",loss)\n",
    "    loss.backward()\n",
    "    with torch.no_grad():\n",
    "        w -= w.grad * 1e-5\n",
    "        b -= b.grad * 1e-5\n",
    "        w.grad.zero_()\n",
    "        b.grad.zero_()"
   ]
  },
  {
   "cell_type": "code",
   "execution_count": 171,
   "metadata": {},
   "outputs": [
    {
     "data": {
      "text/plain": [
       "tensor(281.8460, grad_fn=<DivBackward0>)"
      ]
     },
     "execution_count": 171,
     "metadata": {},
     "output_type": "execute_result"
    }
   ],
   "source": [
    "preds = model(inputs)\n",
    "loss = mse(preds, targets)\n",
    "loss"
   ]
  },
  {
   "cell_type": "code",
   "execution_count": 172,
   "metadata": {},
   "outputs": [
    {
     "data": {
      "text/plain": [
       "tensor([[ 56.,  70.],\n",
       "        [ 83., 101.],\n",
       "        [ 54.,  78.],\n",
       "        [ 56.,  75.]])"
      ]
     },
     "execution_count": 172,
     "metadata": {},
     "output_type": "execute_result"
    }
   ],
   "source": [
    "targets"
   ]
  },
  {
   "cell_type": "code",
   "execution_count": 173,
   "metadata": {},
   "outputs": [
    {
     "data": {
      "text/plain": [
       "tensor([[60.0901, 87.9207],\n",
       "        [54.2632, 76.7488],\n",
       "        [65.5553, 89.5514],\n",
       "        [67.4017, 64.7040]], grad_fn=<AddBackward0>)"
      ]
     },
     "execution_count": 173,
     "metadata": {},
     "output_type": "execute_result"
    }
   ],
   "source": [
    "preds"
   ]
  },
  {
   "cell_type": "code",
   "execution_count": 174,
   "metadata": {},
   "outputs": [],
   "source": [
    "import torch.nn as nn"
   ]
  },
  {
   "cell_type": "code",
   "execution_count": 175,
   "metadata": {},
   "outputs": [],
   "source": [
    "# input temp, rainfall, humidity\n",
    "inputs = np.array([[45,55,65], \n",
    "                   [23,23,23],\n",
    "                   [22,22,75],\n",
    "                   [75,45,23],\n",
    "                   [23,67,22],\n",
    "                   [22,75,45],\n",
    "                   [45,23,75],\n",
    "                   [67,22,23],\n",
    "                   [43,45,22],\n",
    "                   [75,67,75],\n",
    "                   [23,23,23],\n",
    "                   [22,22,22],\n",
    "                   [45,45,45],\n",
    "                   [67,67,67]], dtype='float32')"
   ]
  },
  {
   "cell_type": "code",
   "execution_count": 176,
   "metadata": {},
   "outputs": [],
   "source": [
    "targets = np.array([[75.,75], \n",
    "                   [23,23],\n",
    "                   [22,22],\n",
    "                   [75,45],\n",
    "                   [23,67],\n",
    "                   [22,75],\n",
    "                   [45,23],\n",
    "                   [67,22],\n",
    "                   [43,45],\n",
    "                   [75,67],\n",
    "                   [23,23],\n",
    "                   [22,22],\n",
    "                   [45,45],\n",
    "                   [67,67]], dtype='float32')"
   ]
  },
  {
   "cell_type": "markdown",
   "metadata": {},
   "source": [
    "## Dataset and DataLoader"
   ]
  },
  {
   "cell_type": "code",
   "execution_count": 177,
   "metadata": {},
   "outputs": [],
   "source": [
    "from torch.utils.data import TensorDataset"
   ]
  },
  {
   "cell_type": "code",
   "execution_count": 178,
   "metadata": {},
   "outputs": [],
   "source": [
    "# Convert NumPy arrays to PyTorch tensors\n",
    "inputs = torch.tensor(inputs)\n",
    "targets = torch.tensor(targets)"
   ]
  },
  {
   "cell_type": "code",
   "execution_count": 179,
   "metadata": {},
   "outputs": [
    {
     "data": {
      "text/plain": [
       "(tensor([[45., 55., 65.],\n",
       "         [23., 23., 23.],\n",
       "         [22., 22., 75.],\n",
       "         [75., 45., 23.]]),\n",
       " tensor([[75., 75.],\n",
       "         [23., 23.],\n",
       "         [22., 22.],\n",
       "         [75., 45.]]))"
      ]
     },
     "execution_count": 179,
     "metadata": {},
     "output_type": "execute_result"
    }
   ],
   "source": [
    "# define dataset\n",
    "train_ds = TensorDataset(inputs, targets)\n",
    "train_ds[0:4]"
   ]
  },
  {
   "cell_type": "code",
   "execution_count": 180,
   "metadata": {},
   "outputs": [],
   "source": [
    "from torch.utils.data import DataLoader"
   ]
  },
  {
   "cell_type": "code",
   "execution_count": 181,
   "metadata": {},
   "outputs": [],
   "source": [
    "# define data loader\n",
    "batch_size = 5\n",
    "train_dl = DataLoader(train_ds, batch_size, shuffle= True)"
   ]
  },
  {
   "cell_type": "code",
   "execution_count": 182,
   "metadata": {},
   "outputs": [
    {
     "name": "stdout",
     "output_type": "stream",
     "text": [
      "tensor([[75., 67., 75.],\n",
      "        [45., 55., 65.],\n",
      "        [43., 45., 22.],\n",
      "        [23., 23., 23.],\n",
      "        [45., 45., 45.]])\n",
      "tensor([[75., 67.],\n",
      "        [75., 75.],\n",
      "        [43., 45.],\n",
      "        [23., 23.],\n",
      "        [45., 45.]])\n"
     ]
    }
   ],
   "source": [
    "for xb, yb  in train_dl:\n",
    "    print(xb)\n",
    "    print(yb)\n",
    "    break\n"
   ]
  },
  {
   "cell_type": "code",
   "execution_count": 183,
   "metadata": {},
   "outputs": [
    {
     "name": "stdout",
     "output_type": "stream",
     "text": [
      "Parameter containing:\n",
      "tensor([[ 0.2661, -0.5118,  0.4204],\n",
      "        [-0.4302,  0.0139, -0.4823]], requires_grad=True)\n",
      "Parameter containing:\n",
      "tensor([0.1617, 0.3038], requires_grad=True)\n"
     ]
    }
   ],
   "source": [
    "# define model\n",
    "model = nn.Linear(3,2)\n",
    "print(model.weight)\n",
    "print(model.bias)"
   ]
  },
  {
   "cell_type": "code",
   "execution_count": 184,
   "metadata": {},
   "outputs": [
    {
     "data": {
      "text/plain": [
       "[Parameter containing:\n",
       " tensor([[ 0.2661, -0.5118,  0.4204],\n",
       "         [-0.4302,  0.0139, -0.4823]], requires_grad=True),\n",
       " Parameter containing:\n",
       " tensor([0.1617, 0.3038], requires_grad=True)]"
      ]
     },
     "execution_count": 184,
     "metadata": {},
     "output_type": "execute_result"
    }
   ],
   "source": [
    "list(model.parameters())"
   ]
  },
  {
   "cell_type": "code",
   "execution_count": 185,
   "metadata": {},
   "outputs": [
    {
     "data": {
      "text/plain": [
       "tensor([[ 11.3144, -49.6443],\n",
       "        [  4.1803, -20.3658],\n",
       "        [ 26.2869, -45.0299],\n",
       "        [  6.7582, -42.4325],\n",
       "        [-18.7585, -19.2733],\n",
       "        [-13.4496, -29.8254],\n",
       "        [ 31.8954, -54.9113],\n",
       "        [ 16.4004, -39.3096],\n",
       "        [ -2.1773, -28.1829],\n",
       "        [ 17.3600, -67.2079],\n",
       "        [  4.1803, -20.3658],\n",
       "        [  4.0056, -19.4671],\n",
       "        [  8.0241, -40.1367],\n",
       "        [ 11.8680, -59.9076]], grad_fn=<AddmmBackward0>)"
      ]
     },
     "execution_count": 185,
     "metadata": {},
     "output_type": "execute_result"
    }
   ],
   "source": [
    "preds = model(inputs)\n",
    "preds"
   ]
  },
  {
   "cell_type": "code",
   "execution_count": 186,
   "metadata": {},
   "outputs": [
    {
     "data": {
      "text/plain": [
       "tensor([[75., 75.],\n",
       "        [23., 23.],\n",
       "        [22., 22.],\n",
       "        [75., 45.],\n",
       "        [23., 67.],\n",
       "        [22., 75.],\n",
       "        [45., 23.],\n",
       "        [67., 22.],\n",
       "        [43., 45.],\n",
       "        [75., 67.],\n",
       "        [23., 23.],\n",
       "        [22., 22.],\n",
       "        [45., 45.],\n",
       "        [67., 67.]])"
      ]
     },
     "execution_count": 186,
     "metadata": {},
     "output_type": "execute_result"
    }
   ],
   "source": [
    "targets"
   ]
  },
  {
   "cell_type": "code",
   "execution_count": 187,
   "metadata": {},
   "outputs": [],
   "source": [
    "# loss functions\n",
    "import torch.nn.functional as F"
   ]
  },
  {
   "cell_type": "code",
   "execution_count": 188,
   "metadata": {},
   "outputs": [],
   "source": [
    "# define loss function\n",
    "loss_fn = F.mse_loss"
   ]
  },
  {
   "cell_type": "code",
   "execution_count": 189,
   "metadata": {},
   "outputs": [
    {
     "name": "stdout",
     "output_type": "stream",
     "text": [
      "tensor(4764.3604, grad_fn=<MseLossBackward0>)\n"
     ]
    }
   ],
   "source": [
    "loss = loss_fn(model(inputs), targets)\n",
    "print(loss)"
   ]
  },
  {
   "cell_type": "code",
   "execution_count": 190,
   "metadata": {},
   "outputs": [],
   "source": [
    "# Define optimizer \n",
    "opt = torch.optim.SGD(model.parameters(), lr=1e-5)"
   ]
  },
  {
   "cell_type": "code",
   "execution_count": 191,
   "metadata": {},
   "outputs": [],
   "source": [
    "def fit(num_epochs, model, loss_fn, opt, train_dl):\n",
    "    for epoch in range(num_epochs):\n",
    "        pred = model(xb)\n",
    "        loss = loss_fn(pred, yb)\n",
    "        loss.backward()\n",
    "        opt.step()\n",
    "    \n",
    "    # print the progress\n",
    "    if (epoch+1)%10==0:\n",
    "        print(epoch+1, num_epochs, loss.backward)"
   ]
  },
  {
   "cell_type": "code",
   "execution_count": 192,
   "metadata": {},
   "outputs": [
    {
     "name": "stdout",
     "output_type": "stream",
     "text": [
      "100 100 <bound method Tensor.backward of tensor(393.7314, grad_fn=<MseLossBackward0>)>\n"
     ]
    }
   ],
   "source": [
    "fit(100, model, loss_fn, opt, train_dl)"
   ]
  },
  {
   "cell_type": "code",
   "execution_count": 193,
   "metadata": {},
   "outputs": [
    {
     "data": {
      "text/plain": [
       "tensor([[ 94.4367, 129.8920],\n",
       "        [ 36.8577,  47.8858],\n",
       "        [ 64.7351,  96.6732],\n",
       "        [ 56.6378,  53.4684],\n",
       "        [ 86.4359, 123.2147],\n",
       "        [108.4423, 159.7804],\n",
       "        [ 63.5360,  84.0048],\n",
       "        [ 31.2446,  18.5998],\n",
       "        [ 59.3353,  72.5468],\n",
       "        [110.6200, 141.5076],\n",
       "        [ 36.8577,  47.8858],\n",
       "        [ 35.2639,  45.8186],\n",
       "        [ 71.9213,  93.3634],\n",
       "        [106.9849, 138.8409]], grad_fn=<AddmmBackward0>)"
      ]
     },
     "execution_count": 193,
     "metadata": {},
     "output_type": "execute_result"
    }
   ],
   "source": [
    "preds = model(inputs)\n",
    "preds"
   ]
  },
  {
   "cell_type": "code",
   "execution_count": 194,
   "metadata": {},
   "outputs": [
    {
     "data": {
      "text/plain": [
       "tensor([[75., 75.],\n",
       "        [23., 23.],\n",
       "        [22., 22.],\n",
       "        [75., 45.],\n",
       "        [23., 67.],\n",
       "        [22., 75.],\n",
       "        [45., 23.],\n",
       "        [67., 22.],\n",
       "        [43., 45.],\n",
       "        [75., 67.],\n",
       "        [23., 23.],\n",
       "        [22., 22.],\n",
       "        [45., 45.],\n",
       "        [67., 67.]])"
      ]
     },
     "execution_count": 194,
     "metadata": {},
     "output_type": "execute_result"
    }
   ],
   "source": [
    "targets"
   ]
  },
  {
   "cell_type": "code",
   "execution_count": 195,
   "metadata": {},
   "outputs": [],
   "source": [
    "# imports\n",
    "import torch\n",
    "import torchvision\n",
    "from torchvision.datasets import MNIST"
   ]
  },
  {
   "cell_type": "code",
   "execution_count": 196,
   "metadata": {},
   "outputs": [],
   "source": [
    "# download training dataset \n",
    "dataset = MNIST(root='data/', download=True)"
   ]
  },
  {
   "cell_type": "code",
   "execution_count": 197,
   "metadata": {},
   "outputs": [
    {
     "data": {
      "text/plain": [
       "60000"
      ]
     },
     "execution_count": 197,
     "metadata": {},
     "output_type": "execute_result"
    }
   ],
   "source": [
    "len(dataset)"
   ]
  },
  {
   "cell_type": "code",
   "execution_count": 198,
   "metadata": {},
   "outputs": [
    {
     "data": {
      "text/plain": [
       "torchvision.datasets.mnist.MNIST"
      ]
     },
     "execution_count": 198,
     "metadata": {},
     "output_type": "execute_result"
    }
   ],
   "source": [
    "type(dataset)"
   ]
  },
  {
   "cell_type": "code",
   "execution_count": 199,
   "metadata": {},
   "outputs": [
    {
     "data": {
      "text/plain": [
       "10000"
      ]
     },
     "execution_count": 199,
     "metadata": {},
     "output_type": "execute_result"
    }
   ],
   "source": [
    "test_dataset = MNIST(root='data/', train=False)\n",
    "len(test_dataset)"
   ]
  },
  {
   "cell_type": "code",
   "execution_count": 200,
   "metadata": {},
   "outputs": [
    {
     "data": {
      "text/plain": [
       "(<PIL.Image.Image image mode=L size=28x28>, 5)"
      ]
     },
     "execution_count": 200,
     "metadata": {},
     "output_type": "execute_result"
    }
   ],
   "source": [
    "dataset[0]"
   ]
  },
  {
   "cell_type": "code",
   "execution_count": 201,
   "metadata": {},
   "outputs": [],
   "source": [
    "import matplotlib.pyplot as plt\n",
    "%matplotlib inline"
   ]
  },
  {
   "cell_type": "code",
   "execution_count": 202,
   "metadata": {},
   "outputs": [
    {
     "data": {
      "text/plain": [
       "<matplotlib.image.AxesImage at 0x22a94460710>"
      ]
     },
     "execution_count": 202,
     "metadata": {},
     "output_type": "execute_result"
    },
    {
     "data": {
      "image/png": "[encoded data removed]",
      "text/plain": [
       "<Figure size 640x480 with 1 Axes>"
      ]
     },
     "metadata": {},
     "output_type": "display_data"
    }
   ],
   "source": [
    "image, label = dataset[6]\n",
    "plt.imshow(image, cmap='gray')"
   ]
  },
  {
   "cell_type": "code",
   "execution_count": 203,
   "metadata": {},
   "outputs": [],
   "source": [
    "# image to transform\n",
    "import torchvision.transforms as transforms\n",
    "transform = transforms.Compose([\n",
    "    transforms.ToTensor()\n",
    "])"
   ]
  },
  {
   "cell_type": "code",
   "execution_count": 204,
   "metadata": {},
   "outputs": [],
   "source": [
    "# MNIST dataset \n",
    "datasets = MNIST(root='data/',\n",
    "                 train=True,\n",
    "                 transform = transform)\n",
    "\n",
    "# mnist_dataset = MNIST(root='data/', train=True, transform=transform)\n"
   ]
  },
  {
   "cell_type": "code",
   "execution_count": 205,
   "metadata": {},
   "outputs": [
    {
     "name": "stdout",
     "output_type": "stream",
     "text": [
      "torch.Size([1, 28, 28]) 5\n"
     ]
    }
   ],
   "source": [
    "img_tensor, label = datasets[0]\n",
    "print(img_tensor.shape, label)"
   ]
  },
  {
   "cell_type": "code",
   "execution_count": 206,
   "metadata": {},
   "outputs": [
    {
     "data": {
      "text/plain": [
       "<matplotlib.image.AxesImage at 0x22a8e3273d0>"
      ]
     },
     "execution_count": 206,
     "metadata": {},
     "output_type": "execute_result"
    },
    {
     "data": {
      "image/png": "[encoded data removed]",
      "text/plain": [
       "<Figure size 640x480 with 1 Axes>"
      ]
     },
     "metadata": {},
     "output_type": "display_data"
    }
   ],
   "source": [
    "plt.imshow(img_tensor[0], cmap='gray')"
   ]
  },
  {
   "cell_type": "code",
   "execution_count": 207,
   "metadata": {},
   "outputs": [
    {
     "data": {
      "text/plain": [
       "<matplotlib.image.AxesImage at 0x22a8d6ff250>"
      ]
     },
     "execution_count": 207,
     "metadata": {},
     "output_type": "execute_result"
    },
    {
     "data": {
      "image/png": "[encoded data removed]",
      "text/plain": [
       "<Figure size 640x480 with 1 Axes>"
      ]
     },
     "metadata": {},
     "output_type": "display_data"
    }
   ],
   "source": [
    "plt.imshow(img_tensor[0, 10:15, 10:15], cmap='gray')"
   ]
  },
  {
   "cell_type": "code",
   "execution_count": 208,
   "metadata": {},
   "outputs": [
    {
     "data": {
      "text/plain": [
       "(50000, 10000)"
      ]
     },
     "execution_count": 208,
     "metadata": {},
     "output_type": "execute_result"
    }
   ],
   "source": [
    "from torch.utils.data import random_split\n",
    "\n",
    "train_ds, val_ds = random_split(datasets, [50000, 10000])\n",
    "len(train_ds),len(val_ds)\n",
    "\n",
    "# train_ds, val_ds = random_split(mnist_dataset, [50000, 10000])"
   ]
  },
  {
   "cell_type": "code",
   "execution_count": 209,
   "metadata": {},
   "outputs": [],
   "source": [
    "from torch.utils.data import DataLoader\n",
    "batch_size = 128\n",
    "train_loader = DataLoader(train_ds, batch_size, shuffle=True)\n",
    "val_loader = DataLoader(val_ds, batch_size)"
   ]
  },
  {
   "cell_type": "code",
   "execution_count": 210,
   "metadata": {},
   "outputs": [
    {
     "data": {
      "text/plain": [
       "(391, 79)"
      ]
     },
     "execution_count": 210,
     "metadata": {},
     "output_type": "execute_result"
    }
   ],
   "source": [
    "len(train_loader), len(val_loader)"
   ]
  },
  {
   "cell_type": "code",
   "execution_count": 211,
   "metadata": {},
   "outputs": [],
   "source": [
    "import torch.nn as nn\n",
    "input_size = 28*28\n",
    "num_classes = 10\n",
    "\n",
    "# logistic regression model\n",
    "model = nn.Linear(input_size, num_classes)"
   ]
  },
  {
   "cell_type": "code",
   "execution_count": 212,
   "metadata": {},
   "outputs": [
    {
     "data": {
      "text/plain": [
       "torch.Size([10, 784])"
      ]
     },
     "execution_count": 212,
     "metadata": {},
     "output_type": "execute_result"
    }
   ],
   "source": [
    "model.weight.shape"
   ]
  },
  {
   "cell_type": "code",
   "execution_count": 213,
   "metadata": {},
   "outputs": [
    {
     "data": {
      "text/plain": [
       "Parameter containing:\n",
       "tensor([[-0.0014, -0.0175, -0.0127,  ..., -0.0181, -0.0323, -0.0044],\n",
       "        [ 0.0211,  0.0023,  0.0165,  ...,  0.0210,  0.0348,  0.0284],\n",
       "        [ 0.0159,  0.0076, -0.0193,  ...,  0.0088, -0.0354,  0.0270],\n",
       "        ...,\n",
       "        [ 0.0187, -0.0061,  0.0053,  ...,  0.0211,  0.0290, -0.0237],\n",
       "        [ 0.0254, -0.0042, -0.0169,  ..., -0.0187, -0.0168,  0.0262],\n",
       "        [-0.0234, -0.0253, -0.0267,  ..., -0.0254, -0.0066, -0.0259]],\n",
       "       requires_grad=True)"
      ]
     },
     "execution_count": 213,
     "metadata": {},
     "output_type": "execute_result"
    }
   ],
   "source": [
    "model.weight\n"
   ]
  },
  {
   "cell_type": "code",
   "execution_count": 214,
   "metadata": {},
   "outputs": [
    {
     "data": {
      "text/plain": [
       "torch.Size([10])"
      ]
     },
     "execution_count": 214,
     "metadata": {},
     "output_type": "execute_result"
    }
   ],
   "source": [
    "model.bias.shape"
   ]
  },
  {
   "cell_type": "code",
   "execution_count": 215,
   "metadata": {},
   "outputs": [
    {
     "data": {
      "text/plain": [
       "391"
      ]
     },
     "execution_count": 215,
     "metadata": {},
     "output_type": "execute_result"
    }
   ],
   "source": [
    "len(train_loader)"
   ]
  },
  {
   "cell_type": "code",
   "execution_count": 216,
   "metadata": {},
   "outputs": [
    {
     "name": "stdout",
     "output_type": "stream",
     "text": [
      "torch.Size([128])\n"
     ]
    }
   ],
   "source": [
    "# Iterate over the training DataLoader\n",
    "for images, labels in train_loader:\n",
    "    print(labels.shape)\n",
    "    break"
   ]
  },
  {
   "cell_type": "code",
   "execution_count": 218,
   "metadata": {},
   "outputs": [],
   "source": [
    "# Iterate over the training DataLoader\n",
    "# for images, labels in train_loader:\n",
    "#     print(labels.shape)\n",
    "#     print(images.shape)\n",
    "#     outputs = model(images)\n",
    "#     break"
   ]
  },
  {
   "cell_type": "code",
   "execution_count": 219,
   "metadata": {},
   "outputs": [],
   "source": [
    "class MnistModel(nn.Module):\n",
    "    def __init__(self):\n",
    "        super().__init__()\n",
    "        self.linear = nn.Linear(input_size, num_classes)\n",
    "    \n",
    "    def forward(self, xb):\n",
    "        xb = xb.reshape(-1, 784)\n",
    "        print(\"after\",xb.shape)\n",
    "        out = self.linear(xb)\n",
    "        return out"
   ]
  },
  {
   "cell_type": "code",
   "execution_count": 220,
   "metadata": {},
   "outputs": [],
   "source": [
    "model = MnistModel()"
   ]
  },
  {
   "cell_type": "code",
   "execution_count": 221,
   "metadata": {},
   "outputs": [
    {
     "name": "stdout",
     "output_type": "stream",
     "text": [
      "torch.Size([10, 784])\n",
      "torch.Size([10])\n"
     ]
    }
   ],
   "source": [
    "print(model.linear.weight.shape)\n",
    "print(model.linear.bias.shape)"
   ]
  },
  {
   "cell_type": "code",
   "execution_count": 222,
   "metadata": {},
   "outputs": [
    {
     "data": {
      "text/plain": [
       "[Parameter containing:\n",
       " tensor([[-0.0034, -0.0322, -0.0257,  ...,  0.0336,  0.0238, -0.0037],\n",
       "         [ 0.0324, -0.0285,  0.0059,  ...,  0.0234, -0.0303, -0.0295],\n",
       "         [-0.0130, -0.0234, -0.0164,  ..., -0.0286, -0.0222,  0.0010],\n",
       "         ...,\n",
       "         [-0.0322, -0.0088,  0.0040,  ..., -0.0126, -0.0236, -0.0030],\n",
       "         [-0.0230, -0.0030, -0.0169,  ...,  0.0102,  0.0232, -0.0317],\n",
       "         [ 0.0205, -0.0352,  0.0161,  ...,  0.0189, -0.0115,  0.0223]],\n",
       "        requires_grad=True),\n",
       " Parameter containing:\n",
       " tensor([-0.0285, -0.0060,  0.0249, -0.0334,  0.0124,  0.0184, -0.0125,  0.0046,\n",
       "         -0.0056, -0.0158], requires_grad=True)]"
      ]
     },
     "execution_count": 222,
     "metadata": {},
     "output_type": "execute_result"
    }
   ],
   "source": [
    "list(model.parameters())"
   ]
  },
  {
   "cell_type": "code",
   "execution_count": 223,
   "metadata": {},
   "outputs": [
    {
     "name": "stdout",
     "output_type": "stream",
     "text": [
      "torch.Size([128, 1, 28, 28])\n",
      "after torch.Size([128, 784])\n",
      "output torch.Size([128, 10])\n"
     ]
    }
   ],
   "source": [
    "for images, labels in train_loader:\n",
    "    print(images.shape)\n",
    "    outputs = model(images)\n",
    "    break\n",
    "print(\"output\",outputs.shape)"
   ]
  },
  {
   "cell_type": "markdown",
   "metadata": {},
   "source": [
    "## Softmax"
   ]
  },
  {
   "cell_type": "code",
   "execution_count": 224,
   "metadata": {},
   "outputs": [],
   "source": [
    "import torch.nn.functional as F"
   ]
  },
  {
   "cell_type": "code",
   "execution_count": 225,
   "metadata": {},
   "outputs": [
    {
     "name": "stdout",
     "output_type": "stream",
     "text": [
      "tensor([[0.0929, 0.1031, 0.0926, 0.1242, 0.1379, 0.0880, 0.0840, 0.0841, 0.0899,\n",
      "         0.1033],\n",
      "        [0.0675, 0.0803, 0.0937, 0.1410, 0.1072, 0.1468, 0.0643, 0.1028, 0.1024,\n",
      "         0.0940]], grad_fn=<SliceBackward0>)\n"
     ]
    },
    {
     "data": {
      "text/plain": [
       "128"
      ]
     },
     "execution_count": 225,
     "metadata": {},
     "output_type": "execute_result"
    }
   ],
   "source": [
    "#app;y spftmax for reach output raw\n",
    "probs = F.softmax(outputs, dim=1)\n",
    "print(probs[:2])\n",
    "len(probs)"
   ]
  },
  {
   "cell_type": "code",
   "execution_count": 226,
   "metadata": {},
   "outputs": [
    {
     "data": {
      "text/plain": [
       "1.0000001192092896"
      ]
     },
     "execution_count": 226,
     "metadata": {},
     "output_type": "execute_result"
    }
   ],
   "source": [
    "torch.sum(probs[10]).item()"
   ]
  },
  {
   "cell_type": "code",
   "execution_count": 227,
   "metadata": {},
   "outputs": [
    {
     "name": "stdout",
     "output_type": "stream",
     "text": [
      "tensor([4, 5, 3, 8, 3, 3, 9, 3, 3, 8, 3, 3, 2, 3, 3, 3, 3, 1, 5, 3, 3, 3, 9, 3,\n",
      "        9, 3, 3, 3, 3, 3, 3, 3, 3, 3, 3, 3, 3, 3, 8, 9, 3, 2, 3, 8, 3, 3, 3, 3,\n",
      "        3, 3, 3, 3, 3, 3, 4, 8, 9, 3, 3, 9, 3, 3, 1, 3, 3, 3, 3, 5, 8, 3, 9, 3,\n",
      "        3, 3, 7, 1, 3, 3, 3, 8, 3, 3, 1, 3, 4, 3, 3, 4, 3, 3, 3, 3, 5, 1, 9, 3,\n",
      "        3, 3, 3, 3, 3, 3, 3, 1, 3, 3, 3, 3, 3, 3, 3, 3, 8, 3, 3, 3, 3, 3, 3, 3,\n",
      "        3, 3, 3, 9, 3, 3, 4, 9])\n",
      "tensor([0.1379, 0.1468, 0.1339, 0.1323, 0.1582, 0.1295, 0.1132, 0.1770, 0.1413,\n",
      "        0.1245, 0.1728, 0.1466, 0.1225, 0.1454, 0.1390, 0.1319, 0.1613, 0.1444,\n",
      "        0.1301, 0.1823, 0.1143, 0.1229, 0.1253, 0.1341, 0.1386, 0.1705, 0.1305,\n",
      "        0.1491, 0.1347, 0.1488, 0.1496, 0.1590, 0.1612, 0.1463, 0.1306, 0.1408,\n",
      "        0.1305, 0.1454, 0.1391, 0.1312, 0.1239, 0.1235, 0.1585, 0.1436, 0.1525,\n",
      "        0.1416, 0.1381, 0.1567, 0.1433, 0.1488, 0.1398, 0.1382, 0.1421, 0.1439,\n",
      "        0.1168, 0.1286, 0.1440, 0.1389, 0.1813, 0.1466, 0.1667, 0.1156, 0.1250,\n",
      "        0.1251, 0.1417, 0.1336, 0.1364, 0.1308, 0.1355, 0.1771, 0.1346, 0.1321,\n",
      "        0.1373, 0.1526, 0.1214, 0.1247, 0.1222, 0.1253, 0.1429, 0.1425, 0.1441,\n",
      "        0.1495, 0.1180, 0.1800, 0.1522, 0.1346, 0.1361, 0.1195, 0.1410, 0.1333,\n",
      "        0.1163, 0.1316, 0.1184, 0.1205, 0.1566, 0.1485, 0.1627, 0.1483, 0.1650,\n",
      "        0.1337, 0.1326, 0.1409, 0.1190, 0.1198, 0.1523, 0.1401, 0.1267, 0.1294,\n",
      "        0.1433, 0.1460, 0.1276, 0.1316, 0.1293, 0.1452, 0.1345, 0.1198, 0.1232,\n",
      "        0.1533, 0.1165, 0.1639, 0.1492, 0.1467, 0.1305, 0.1361, 0.1377, 0.1243,\n",
      "        0.1233, 0.1279], grad_fn=<MaxBackward0>)\n"
     ]
    }
   ],
   "source": [
    "max_probs, preds = torch.max(probs, dim=1)\n",
    "print(preds)\n",
    "print(max_probs)"
   ]
  },
  {
   "cell_type": "code",
   "execution_count": 228,
   "metadata": {},
   "outputs": [],
   "source": [
    "# find accuracy\n",
    "def accuracy(outputs, labels):\n",
    "    _, preds = torch.max(outputs, dim=1)\n",
    "    return torch.tensor(torch.sum(preds ==labels).item()/ len(preds))"
   ]
  },
  {
   "cell_type": "code",
   "execution_count": 229,
   "metadata": {},
   "outputs": [
    {
     "data": {
      "text/plain": [
       "tensor(0.0859)"
      ]
     },
     "execution_count": 229,
     "metadata": {},
     "output_type": "execute_result"
    }
   ],
   "source": [
    "accuracy(outputs, labels)"
   ]
  },
  {
   "cell_type": "code",
   "execution_count": 230,
   "metadata": {},
   "outputs": [],
   "source": [
    "## loss functions\n",
    "loss_fn = F.cross_entropy"
   ]
  },
  {
   "cell_type": "code",
   "execution_count": 231,
   "metadata": {},
   "outputs": [
    {
     "name": "stdout",
     "output_type": "stream",
     "text": [
      "tensor(2.3073, grad_fn=<NllLossBackward0>)\n"
     ]
    }
   ],
   "source": [
    "loss = loss_fn(outputs, labels)\n",
    "print(loss)"
   ]
  },
  {
   "cell_type": "markdown",
   "metadata": {},
   "source": [
    "# Training the model\n",
    "\n",
    "for epoch in range(num_epochs):\n",
    "    # training phase\n",
    "    for batch in train_loader:\n",
    "        # Generate predictions\n",
    "        # calculate loss\n",
    "        # compute gradients\n",
    "        # update weights\n",
    "        # reset gradients\n",
    "\n",
    "    # Validation phase\n",
    "    for batch in val_loader:\n",
    "        # Generate predictions\n",
    "        # Calculate loss\n",
    "        # Calculate metrics\n",
    "    # Calculate average validations loss & metrics\n",
    "\n",
    "    # Log epoch, loss & metrics for inspection\n",
    "    \n"
   ]
  },
  {
   "cell_type": "code",
   "execution_count": 232,
   "metadata": {},
   "outputs": [],
   "source": [
    "class MnistModel(nn.Module):\n",
    "    def __init__(self):\n",
    "        super().__init__()\n",
    "        self.linear = nn.Linear(input_size, num_classes)\n",
    "    \n",
    "    def forward(self, xb):\n",
    "        xb = xb.reshape(-1, 784)\n",
    "        out = self.linear(xb)\n",
    "        return out\n",
    "    \n",
    "    def training_step(self, batch):\n",
    "        images, labels = batch\n",
    "        out = self(images)\n",
    "        loss = F.cross_entropy(out, labels)\n",
    "        return loss\n",
    "    \n",
    "    def validation_step(self, batch):\n",
    "        images, labels = batch\n",
    "        out = self(images)\n",
    "        acc = accuracy(out, labels)\n",
    "        return {'val_loss': loss, 'val_acc': acc}\n",
    "    \n",
    "    def validation_epoch_end(self, outputs):\n",
    "        batch_losses = [x['val_loss'] for x in outputs]\n",
    "        epoch_loss = torch.stack(batch_losses).mean()\n",
    "        batch_acces = [x['val_acc'] for x in outputs]\n",
    "        epoch_acc = torch.stack(batch_acces).mean()\n",
    "        return {'val_loss': epoch_loss.item(), 'val_acc': epoch_acc.item()}\n",
    "    \n",
    "    def epoch_end(self, epoch, result):\n",
    "        print(\"Epoch [{}], val_loss: {:.4f}, val_acc:{:.4f}\".format(epoch, result['val_loss'], result['val_acc']))\n",
    "\n",
    "model = MnistModel()\n"
   ]
  },
  {
   "cell_type": "code",
   "execution_count": 233,
   "metadata": {},
   "outputs": [],
   "source": [
    "def evaluate(model, val_loader):\n",
    "    ouputs = [model.validation_step(batch) for batch in val_loader]\n",
    "    return model.validation_epoch_end(ouputs)"
   ]
  },
  {
   "cell_type": "code",
   "execution_count": 234,
   "metadata": {},
   "outputs": [],
   "source": [
    "def fit(epochs, lr, model, train_laoder, val_loader, opt_func = torch.optim.SGD):\n",
    "    history = []\n",
    "    optimizer = opt_func(model.parameters(), lr)\n",
    "    for epoch in range(epochs):\n",
    "        # Training phase\n",
    "        for batch in train_laoder:\n",
    "            loss = model.training_step(batch)\n",
    "            loss.backward()\n",
    "            optimizer.step()\n",
    "            optimizer.zero_grad()\n",
    "        # validation phase\n",
    "        result = evaluate(model, val_loader)\n",
    "        model.epoch_end(epoch, result)\n",
    "        history.append(result)\n",
    "    return history"
   ]
  },
  {
   "cell_type": "code",
   "execution_count": 235,
   "metadata": {},
   "outputs": [
    {
     "data": {
      "text/plain": [
       "{'val_loss': 2.3073034286499023, 'val_acc': 0.04736946150660515}"
      ]
     },
     "execution_count": 235,
     "metadata": {},
     "output_type": "execute_result"
    }
   ],
   "source": [
    "result0 = evaluate(model, val_loader)\n",
    "result0"
   ]
  },
  {
   "cell_type": "code",
   "execution_count": null,
   "metadata": {},
   "outputs": [],
   "source": []
  }
 ],
 "metadata": {
  "kernelspec": {
   "display_name": "tfod",
   "language": "python",
   "name": "python3"
  },
  "language_info": {
   "codemirror_mode": {
    "name": "ipython",
    "version": 3
   },
   "file_extension": ".py",
   "mimetype": "text/x-python",
   "name": "python",
   "nbconvert_exporter": "python",
   "pygments_lexer": "ipython3",
   "version": "3.11.5"
  }
 },
 "nbformat": 4,
 "nbformat_minor": 2
}
